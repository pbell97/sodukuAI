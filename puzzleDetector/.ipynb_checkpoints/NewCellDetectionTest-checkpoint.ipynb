{
 "cells": [
  {
   "cell_type": "code",
   "execution_count": 1,
   "metadata": {
    "collapsed": false
   },
   "outputs": [],
   "source": [
    "import cv2\n",
    "import imutils\n",
    "import numpy as np\n",
    "import time\n",
    "from matplotlib import pyplot as plt\n",
    "from keras.models import load_model\n",
    "import PIL\n",
    "from PIL import Image, ImageDraw, ImageFont, ImageOps\n",
    "import os\n",
    "import random\n",
    "# import tensorflow as tf\n",
    "# from tensorflow import keras\n",
    "# from tensorflow.keras import layers\n",
    "# from tensorflow.keras.models import Sequential\n",
    "import pathlib\n",
    "import copy\n",
    "import math"
   ]
  },
  {
   "cell_type": "code",
   "execution_count": 2,
   "metadata": {
    "collapsed": true
   },
   "outputs": [],
   "source": [
    "def loadImage(path):\n",
    "        return cv2.imread(path)\n",
    "\n",
    "originalImagePath = \"/Users/patrickbell/Documents/sodukuAI/puzzleDetector/Sample1.png\"\n",
    "originalImage = loadImage(originalImagePath)\n",
    "    \n",
    "    \n",
    "# Updates upper and lower black colors for mask\n",
    "def findGridColor(image):\n",
    "    threshhold = 0.4\n",
    "    for i in range(image.shape[0]):\n",
    "        color = image[i][i]\n",
    "        if color[0] < 200 and color[1] < 200 and color[2] < 200:\n",
    "            blackLower = (\n",
    "                color[0]-color[0]*threshhold, color[1]-color[1]*threshhold, color[2]-color[2]*threshhold)\n",
    "            blackUpper = (\n",
    "                color[0]+color[0]*threshhold, color[1]+color[1]*threshhold, color[2]+color[2]*threshhold)\n",
    "            break\n",
    "#     print(blackLower, blackUpper)\n",
    "    return blackLower, blackUpper\n",
    "    # TODO: Debug lower & upper values here\n",
    "    \n",
    "def cropToGrid(image):\n",
    "    blackLower, blackUpper = findGridColor(image)\n",
    "    mask = cv2.inRange(image, blackLower, blackUpper)\n",
    "    # TODO: Debug show mask\n",
    "\n",
    "    cnts = cv2.findContours(\n",
    "        mask.copy(), cv2.RETR_EXTERNAL, cv2.CHAIN_APPROX_SIMPLE)\n",
    "    cnts = imutils.grab_contours(cnts)\n",
    "    cnt = max(cnts, key=cv2.contourArea)\n",
    "    rect = cv2.minAreaRect(cnt)\n",
    "    box = cv2.boxPoints(rect)\n",
    "    box = np.int0(box)\n",
    "\n",
    "    # Assign coordinates of rectangle\n",
    "    topLeftCornerX = box[1][0]\n",
    "    topLeftCornerY = box[1][1]\n",
    "    bottomRightCornerX = box[3][0]\n",
    "    bottomRightCornerY = box[3][1]\n",
    "    gridCorners = (topLeftCornerX, topLeftCornerY,\n",
    "                        bottomRightCornerX, bottomRightCornerY)\n",
    "    croppedImageWithGrid = image[topLeftCornerY:bottomRightCornerY, topLeftCornerX:bottomRightCornerX]\n",
    "    return croppedImageWithGrid\n",
    "\n",
    "def showImage(image, title):\n",
    "        cv2.imshow(title, image)\n",
    "        cv2.waitKey(0)\n",
    "        cv2.destroyAllWindows()\n"
   ]
  },
  {
   "cell_type": "code",
   "execution_count": null,
   "metadata": {
    "collapsed": true
   },
   "outputs": [],
   "source": []
  },
  {
   "cell_type": "code",
   "execution_count": 3,
   "metadata": {
    "collapsed": false
   },
   "outputs": [],
   "source": [
    "# showImage(originalImage, \"Cropped\")"
   ]
  },
  {
   "cell_type": "code",
   "execution_count": 6,
   "metadata": {
    "collapsed": true
   },
   "outputs": [],
   "source": [
    "def pixelIsBlack(pixel):\n",
    "    blackValue = 200\n",
    "    if pixel[0] < blackValue and pixel[1] < blackValue and pixel[2] < blackValue:\n",
    "        return True\n",
    "    else:\n",
    "        return False\n",
    "        \n",
    "        \n",
    "\n",
    "# TODO: Should consider what happens if image doesn't have a white border\n",
    "def findLines(image):\n",
    "    # Image goes\n",
    "    # originalImage[height, width]\n",
    "    # \n",
    "    # (0,0) --------> originalImage[0][100]\n",
    "    # |\n",
    "    # |\n",
    "    # |\n",
    "    # |\n",
    "    # originalImage[100][0]\n",
    "    \n",
    "    \n",
    "    # Height, width, channels\n",
    "    shape = image.shape\n",
    "    # Gets x coordinates of 1/6, 3/6, 5/6 of image to navigate downward\n",
    "    xPoints = [int(shape[1]/6), int(shape[1]/6)*3, int(shape[1]/6)*5]\n",
    "\n",
    "    horizontalLines = []\n",
    "    i = 0\n",
    "    while i < shape[0]:\n",
    "        point1 = image[xPoints[0], i]\n",
    "        point2 = image[xPoints[1], i]\n",
    "        point3 = image[xPoints[2], i]\n",
    "#         print(point1, point2, point3, '\\n')\n",
    "        lineStart = None\n",
    "        if pixelIsBlack(point1) and pixelIsBlack(point2) and pixelIsBlack(point3):\n",
    "            lineStart = i\n",
    "            while pixelIsBlack(point1) and pixelIsBlack(point2) and pixelIsBlack(point3) and i < shape[0]:\n",
    "                i = i + 1\n",
    "                point1 = image[xPoints[0], i]\n",
    "                point2 = image[xPoints[1], i]\n",
    "                point3 = image[xPoints[2], i]\n",
    "                \n",
    "            if lineStart:\n",
    "                horizontalLines.append((lineStart,i-1))\n",
    "        i = i+1\n",
    "    return horizontalLines\n",
    "    \n",
    "    "
   ]
  },
  {
   "cell_type": "code",
   "execution_count": 25,
   "metadata": {
    "collapsed": false
   },
   "outputs": [],
   "source": []
  },
  {
   "cell_type": "code",
   "execution_count": 26,
   "metadata": {
    "collapsed": false
   },
   "outputs": [],
   "source": []
  },
  {
   "cell_type": "code",
   "execution_count": 7,
   "metadata": {
    "collapsed": true
   },
   "outputs": [],
   "source": [
    "lines = findLines(originalImage)"
   ]
  },
  {
   "cell_type": "code",
   "execution_count": null,
   "metadata": {
    "collapsed": false
   },
   "outputs": [],
   "source": []
  },
  {
   "cell_type": "code",
   "execution_count": null,
   "metadata": {
    "collapsed": false
   },
   "outputs": [],
   "source": []
  },
  {
   "cell_type": "code",
   "execution_count": null,
   "metadata": {
    "collapsed": true
   },
   "outputs": [],
   "source": []
  },
  {
   "cell_type": "code",
   "execution_count": null,
   "metadata": {
    "collapsed": true
   },
   "outputs": [],
   "source": []
  }
 ],
 "metadata": {
  "kernelspec": {
   "display_name": "Python 3",
   "language": "python",
   "name": "python3"
  },
  "language_info": {
   "codemirror_mode": {
    "name": "ipython",
    "version": 3
   },
   "file_extension": ".py",
   "mimetype": "text/x-python",
   "name": "python",
   "nbconvert_exporter": "python",
   "pygments_lexer": "ipython3",
   "version": "3.6.0"
  }
 },
 "nbformat": 4,
 "nbformat_minor": 2
}
