{
 "cells": [
  {
   "cell_type": "code",
   "execution_count": 27,
   "metadata": {
    "collapsed": true
   },
   "outputs": [],
   "source": [
    "import cv2\n",
    "import math\n",
    "#Thought: Run a general puzzle check on a new inputted puzzle to see if there are any errors"
   ]
  },
  {
   "cell_type": "code",
   "execution_count": 69,
   "metadata": {
    "collapsed": true
   },
   "outputs": [],
   "source": [
    "puzzle = [['blank', 'blank', 'blank', 'blank', 'blank', 'blank', 'blank', 'blank', 'blank'],\n",
    "['blank', 'blank', 'blank', 'blank', 'blank', '3', 'blank', '8', '5'],\n",
    "['blank', 'blank', '1', 'blank', '2', 'blank', 'blank', 'blank', 'blank'],\n",
    "['blank', 'blank', 'blank', '5', 'blank', '7', 'blank', 'blank', 'blank'],\n",
    "['blank', 'blank', '4', 'blank', 'blank', 'blank', '1', 'blank', 'blank'],\n",
    "['blank', '9', 'blank', 'blank', 'blank', 'blank', 'blank', 'blank', 'blank'],\n",
    "['5', 'blank', 'blank', 'blank', 'blank', 'blank', 'blank', '7', '3'],\n",
    "['blank', 'blank', '2', 'blank', '1', 'blank', 'blank', 'blank', 'blank'],\n",
    "['blank', 'blank', 'blank', 'blank', '4', 'blank', 'blank', 'blank', '9']]"
   ]
  },
  {
   "cell_type": "code",
   "execution_count": null,
   "metadata": {
    "collapsed": false
   },
   "outputs": [],
   "source": []
  },
  {
   "cell_type": "code",
   "execution_count": 63,
   "metadata": {
    "collapsed": true
   },
   "outputs": [],
   "source": [
    "def rowIsValid(puzzle, rowNumber):\n",
    "    numbers = puzzle[rowNumber]\n",
    "    existingNumbers = []\n",
    "    for number in numbers:\n",
    "        if number in existingNumbers and number != 'blank':\n",
    "            return False\n",
    "        else:\n",
    "            existingNumbers.append(number)\n",
    "    return True\n",
    "    \n",
    "def columnIsValid(puzzle, colNumber):\n",
    "    existingNumbers = []\n",
    "    for i in range(8):\n",
    "        number = puzzle[i][colNumber]\n",
    "        if number in existingNumbers and number != 'blank':\n",
    "            return False\n",
    "        else:\n",
    "            existingNumbers.append(number)\n",
    "    return True\n",
    "    \n",
    "def groupIsValid(puzzle, rowNumber, colNumber):\n",
    "    existingNumbers = []\n",
    "    firstRowNum = math.floor(rowNumber/3)*3\n",
    "    firstColNum = math.floor(colNumber/3)*3\n",
    "    for i in range(3):\n",
    "        for j in range(3):\n",
    "            number = puzzle[firstRowNum+i][firstColNum+j]\n",
    "            if number in existingNumbers and number != 'blank':\n",
    "                return False\n",
    "            else:\n",
    "                existingNumbers.append(number)\n",
    "    return True\n",
    "\n",
    "def puzzleIsValid(puzzle):\n",
    "    for i in range(9):\n",
    "        if not rowIsValid(puzzle, i):\n",
    "            return False\n",
    "        if not columnIsValid(puzzle, i):\n",
    "            return False\n",
    "    for i in range(3):\n",
    "        for j in range(3):\n",
    "            if not groupIsValid(puzzle, i*3,j*3):\n",
    "                return False\n",
    "    return True"
   ]
  },
  {
   "cell_type": "code",
   "execution_count": null,
   "metadata": {
    "collapsed": false
   },
   "outputs": [],
   "source": []
  },
  {
   "cell_type": "code",
   "execution_count": 73,
   "metadata": {
    "collapsed": false
   },
   "outputs": [],
   "source": [
    "def getNextCell(rowNumber, columnNumber, method=\"down\"):\n",
    "    if str.lower(method) == \"down\":\n",
    "        if rowNumber < 8:\n",
    "            return (rowNumber + 1, columnNumber)\n",
    "        elif rowNumber == 8 and columnNumber != 8:\n",
    "            return (0, columnNumber + 1)\n",
    "        else:\n",
    "            return None"
   ]
  },
  {
   "cell_type": "code",
   "execution_count": 82,
   "metadata": {
    "collapsed": false
   },
   "outputs": [],
   "source": [
    "def solve(puzzle):\n",
    "    cell = {\n",
    "        'row': 0,\n",
    "        'column': 0,\n",
    "        'value': puzzle[0][0],\n",
    "        'isFixed': True if puzzle[0][0] == 'blank' else False\n",
    "    }\n",
    "    \n",
    "    cellSolve(puzzle, cell)\n",
    "    \n",
    "    \n",
    "def cellSolve(puzzle, cell):\n",
    "    \n",
    "    # DO check if its a fixedCell and skip is so\n",
    "    \n",
    "    if cell['value'] == 'blank':\n",
    "        possibleValues = ['1','2','3','4','5','6','7','8','9']\n",
    "        for possibleValue in possibleValues:\n",
    "            cell['value'] = possibleValue\n",
    "            puzzle[cell['row'], cell['column']] = cell['value']\n",
    "            isValid = puzzleIsValid(puzzle)\n",
    "            if not isValid and possibleValue != '9':\n",
    "                puzzle[cell['row'], cell['column']] = 'blank'\n",
    "                continue\n",
    "            elif not isValid and possibleValue == '9':\n",
    "                puzzle[cell['row'], cell['column']] = 'blank'\n",
    "                # Need to backtrack\n",
    "                return False\n",
    "            elif isValid:\n",
    "                # Call this sequence on the next cell\n",
    "                nextPosition = getNextCell(cell['row'], cell['column'], \"down\")\n",
    "                if nextPosition == None:\n",
    "                    print(\"SOLVED\")\n",
    "                    print(puzzle)\n",
    "                    return puzzle\n",
    "                else:\n",
    "                    cell = {\n",
    "                        'row': nextPosition[0],\n",
    "                        'column': nextPosition[1],\n",
    "                        'value': puzzle[nextPosition[0]][nextPosition[1]],\n",
    "                        'isFixed': True if puzzle[nextPosition[0]][nextPosition[1]] == 'blank' else False\n",
    "                    }\n",
    "                    result = cellSolve(puzzle, cell)\n",
    "                    if result == False:\n",
    "                        continue\n",
    "                    else:\n",
    "                        return result\n",
    "                    \n",
    "                \n",
    "        \n",
    "    "
   ]
  },
  {
   "cell_type": "code",
   "execution_count": null,
   "metadata": {
    "collapsed": false
   },
   "outputs": [],
   "source": []
  },
  {
   "cell_type": "code",
   "execution_count": null,
   "metadata": {
    "collapsed": false
   },
   "outputs": [],
   "source": []
  },
  {
   "cell_type": "code",
   "execution_count": null,
   "metadata": {
    "collapsed": true
   },
   "outputs": [],
   "source": []
  },
  {
   "cell_type": "code",
   "execution_count": null,
   "metadata": {
    "collapsed": false
   },
   "outputs": [],
   "source": []
  },
  {
   "cell_type": "code",
   "execution_count": null,
   "metadata": {
    "collapsed": true
   },
   "outputs": [],
   "source": []
  }
 ],
 "metadata": {
  "kernelspec": {
   "display_name": "Python 3",
   "language": "python",
   "name": "python3"
  },
  "language_info": {
   "codemirror_mode": {
    "name": "ipython",
    "version": 3
   },
   "file_extension": ".py",
   "mimetype": "text/x-python",
   "name": "python",
   "nbconvert_exporter": "python",
   "pygments_lexer": "ipython3",
   "version": "3.6.0"
  }
 },
 "nbformat": 4,
 "nbformat_minor": 2
}
