{
 "cells": [
  {
   "cell_type": "code",
   "execution_count": 29,
   "metadata": {
    "collapsed": false
   },
   "outputs": [],
   "source": [
    "from PIL import Image, ImageDraw, ImageFont, ImageOps\n",
    "import os\n",
    "from IPython.display import display\n",
    "import random"
   ]
  },
  {
   "cell_type": "code",
   "execution_count": 30,
   "metadata": {
    "collapsed": false
   },
   "outputs": [],
   "source": [
    "def createNumberPic(number = 1, pictureSize = (100,100), backgroundColor=\"white\", font = \"Arial.ttf\", fontRGBColor = (0,0,0), fontSize = 10, offset = (10,10), shapes=(False,False,False,False), randomShapeWidths=False, filename = \"testFile.png\"):\n",
    "    if number == 0: number = \"\"\n",
    "    image = Image.new(mode=\"RGB\", size=pictureSize, color=backgroundColor)\n",
    "    fnt = ImageFont.truetype(font, fontSize)\n",
    "    draw = ImageDraw.Draw(image)\n",
    "    draw.text(offset, str(number), font=fnt, fill=(fontRGBColor))\n",
    "    \n",
    "    randomChangeNum1 = -4\n",
    "    randomChangeNum2 = 2\n",
    "    \n",
    "#     TODO: Make font and line color variable (they won't always be super block)\n",
    "    \n",
    "    # TODO: Make the pixel locations based on width/height variables\n",
    "    randomChange = random.randrange(randomChangeNum1,randomChangeNum2)\n",
    "    if (not randomShapeWidths): randomChange = 0\n",
    "    topShape = [(0,0),(100,5+randomChange)]\n",
    "    \n",
    "    randomChange = random.randrange(randomChangeNum1,randomChangeNum2)\n",
    "    if (not randomShapeWidths): randomChange = 0\n",
    "    leftShape = [(0,0),(5+randomChange,100)]\n",
    "    \n",
    "    randomChange = random.randrange(randomChangeNum1,randomChangeNum2)\n",
    "    if (not randomShapeWidths): randomChange = 0\n",
    "    bottomShape = [(0,95+randomChange),(100,100)]\n",
    "    \n",
    "    randomChange = random.randrange(randomChangeNum1,randomChangeNum2)\n",
    "    if (not randomShapeWidths): randomChange = 0\n",
    "    rightShape = [(95+randomChange,0),(100,100)]\n",
    "    \n",
    "    randomColorNumber = random.randrange(0,100)\n",
    "    rectangleFill = (randomColorNumber,randomColorNumber,randomColorNumber)\n",
    "    \n",
    "    \n",
    "    # Top line\n",
    "    if (shapes[0]):\n",
    "        draw.rectangle(topShape, fill=rectangleFill)\n",
    "        \n",
    "    # Left line\n",
    "    if (shapes[1]):\n",
    "        draw.rectangle(leftShape, fill=rectangleFill)\n",
    "        \n",
    "    # Bottom line\n",
    "    if (shapes[2]):\n",
    "        draw.rectangle(bottomShape, fill=rectangleFill)\n",
    "        \n",
    "    # Right line\n",
    "    if (shapes[3]):\n",
    "        draw.rectangle(rightShape, fill=rectangleFill)\n",
    "\n",
    "    image = ImageOps.grayscale(image)\n",
    "    image.save(filename)\n",
    "#     display(image)\n",
    "\n",
    "    \n",
    "\n",
    "# Lines    Top Left Bottom Right\n",
    "shapes = (True,True,True,True)\n",
    "randsomShapeWidths = True\n",
    "\n",
    "number = 7\n",
    "pictureSize = (100,100)\n",
    "backgroundColor=\"white\"\n",
    "font = \"Arial.ttf\"\n",
    "\n",
    "fontRGBColor = (0,0,0)\n",
    "randomColorNumber = random.randrange(0,100)\n",
    "fontRGBColor = (randomColorNumber,randomColorNumber,randomColorNumber)\n",
    "\n",
    "fontSize = 80 \n",
    "offset = (25,8)\n",
    "filename = \"/Users/patrickbell/Documents/sodukuAI/digitClassifier/trainingImages/\" + font.strip('.ttf') + '_' + str(number) + '.png'\n",
    "createNumberPic(number, pictureSize, backgroundColor, font, fontRGBColor, fontSize, offset, shapes, randsomShapeWidths, filename)\n",
    "    "
   ]
  },
  {
   "cell_type": "code",
   "execution_count": 31,
   "metadata": {
    "collapsed": true
   },
   "outputs": [],
   "source": [
    "# Load list of all font names\n",
    "\n",
    "fontListFilename = \"/Users/patrickbell/Documents/sodukuAI/digitClassifier/fonts.txt\"\n",
    "fonts = []\n",
    "\n",
    "with open(fontListFilename, 'r') as f:\n",
    "    for font in f.readlines():\n",
    "        font = font.strip('\\n').strip(' ')\n",
    "        fonts.append(font)"
   ]
  },
  {
   "cell_type": "code",
   "execution_count": 32,
   "metadata": {
    "collapsed": true
   },
   "outputs": [],
   "source": [
    "# Generate all the fonts\n",
    "\n",
    "# All possible shape combinations\n",
    "shapeCombinations = []\n",
    "for shapeCombination in range(16):\n",
    "    get_bin = lambda x, n: format(x, 'b').zfill(n)\n",
    "    binaryCombNum = get_bin(shapeCombination,4)\n",
    "    shapes = (bool(int(binaryCombNum[0])),bool(int(binaryCombNum[1])),bool(int(binaryCombNum[2])),bool(int(binaryCombNum[3])))\n",
    "    shapeCombinations.append(shapes)\n",
    "\n",
    "# All possible numbers, 0 will format to a blank\n",
    "numbers = [0,1,2,3,4,5,6,7,8,9]\n",
    "\n",
    "# All fonts are loaded in the steps above\n",
    "\n",
    "# How many times to repeat a specific number\n",
    "numberRepeats = 3\n",
    "\n",
    "count = 0\n",
    "for font in fonts:\n",
    "    for shapes in shapeCombinations:\n",
    "        for number in numbers:\n",
    "            for repeat in range(numberRepeats):\n",
    "                count += 1\n",
    "                randsomShapeWidths = True\n",
    "                pictureSize = (100,100)\n",
    "                backgroundColor=\"white\"\n",
    "                randomColorNumber = random.randrange(0,100)\n",
    "                fontRGBColor = (randomColorNumber,randomColorNumber,randomColorNumber)\n",
    "                fontSize = 80\n",
    "\n",
    "                # 10 to 45 and -5 to 13\n",
    "                offset = (25 + random.randrange(-15,20), 8 + random.randrange(-13,5))\n",
    "\n",
    "                filename = \"/Users/patrickbell/Documents/sodukuAI/digitClassifier/trainingImages/\" + str(number) + \"/\" + font.strip('.ttf') + '_' + str(number) + \"_\" + str(count) + '.png'\n",
    "                createNumberPic(number, pictureSize, backgroundColor, font, fontRGBColor, fontSize, offset, shapes, randsomShapeWidths, filename)\n"
   ]
  },
  {
   "cell_type": "code",
   "execution_count": null,
   "metadata": {
    "collapsed": true
   },
   "outputs": [],
   "source": []
  },
  {
   "cell_type": "code",
   "execution_count": 33,
   "metadata": {
    "collapsed": false
   },
   "outputs": [],
   "source": [
    "import matplotlib.pyplot as plt\n",
    "import numpy as np\n",
    "import os\n",
    "import PIL\n",
    "import tensorflow as tf\n",
    "\n",
    "from tensorflow import keras\n",
    "from tensorflow.keras import layers\n",
    "from tensorflow.keras.models import Sequential\n",
    "import pathlib"
   ]
  },
  {
   "cell_type": "code",
   "execution_count": 35,
   "metadata": {
    "collapsed": false
   },
   "outputs": [],
   "source": [
    "new_model = tf.keras.models.load_model('/Users/patrickbell/Documents/sodukuAI/digitClassifier/wholeModelSave')"
   ]
  },
  {
   "cell_type": "code",
   "execution_count": 45,
   "metadata": {
    "collapsed": false
   },
   "outputs": [],
   "source": [
    "imagePath = \"/Users/patrickbell/Documents/sodukuAI/digitClassifier/trainingImages/6/Arial Black_6_3621.png\"\n",
    "\n",
    "img = keras.preprocessing.image.load_img(\n",
    "    imagePath, target_size=(100, 100)\n",
    ")\n"
   ]
  },
  {
   "cell_type": "code",
   "execution_count": 42,
   "metadata": {
    "collapsed": false
   },
   "outputs": [],
   "source": [
    "class_names = ['1', '2', '3', '4', '5', '6', '7', '8', '9', 'blank']"
   ]
  },
  {
   "cell_type": "code",
   "execution_count": 43,
   "metadata": {
    "collapsed": false
   },
   "outputs": [
    {
     "name": "stdout",
     "output_type": "stream",
     "text": [
      "This image most likely belongs to 6 with a 99.88 percent confidence.\n"
     ]
    }
   ],
   "source": [
    "img_array = keras.preprocessing.image.img_to_array(img)\n",
    "img_array = tf.expand_dims(img_array, 0) # Create a batch\n",
    "\n",
    "predictions = new_model.predict(img_array)\n",
    "score = tf.nn.softmax(predictions[0])\n",
    "\n",
    "print(\n",
    "    \"This image most likely belongs to {} with a {:.2f} percent confidence.\"\n",
    "    .format(class_names[np.argmax(score)], 100 * np.max(score))\n",
    ")"
   ]
  },
  {
   "cell_type": "code",
   "execution_count": null,
   "metadata": {
    "collapsed": true
   },
   "outputs": [],
   "source": []
  }
 ],
 "metadata": {
  "kernelspec": {
   "display_name": "Python 3",
   "language": "python",
   "name": "python3"
  },
  "language_info": {
   "codemirror_mode": {
    "name": "ipython",
    "version": 3
   },
   "file_extension": ".py",
   "mimetype": "text/x-python",
   "name": "python",
   "nbconvert_exporter": "python",
   "pygments_lexer": "ipython3",
   "version": "3.6.0"
  }
 },
 "nbformat": 4,
 "nbformat_minor": 2
}
