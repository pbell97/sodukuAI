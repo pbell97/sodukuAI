{
 "cells": [
  {
   "cell_type": "code",
   "execution_count": 93,
   "metadata": {
    "collapsed": false
   },
   "outputs": [],
   "source": [
    "import cv2\n",
    "import imutils\n",
    "import numpy as np\n",
    "import time\n",
    "from matplotlib import pyplot as plt\n",
    "from keras.models import load_model\n",
    "import PIL\n",
    "from PIL import Image, ImageDraw, ImageFont, ImageOps\n",
    "import os\n",
    "import random\n",
    "import tensorflow as tf\n",
    "from tensorflow import keras\n",
    "from tensorflow.keras import layers\n",
    "from tensorflow.keras.models import Sequential\n",
    "import pathlib\n",
    "import copy\n",
    "import math\n"
   ]
  },
  {
   "cell_type": "code",
   "execution_count": 74,
   "metadata": {
    "collapsed": false
   },
   "outputs": [],
   "source": [
    "def loadImage(path):\n",
    "        return cv2.imread(path)\n",
    "\n",
    "originalImagePath = \"/Users/patrickbell/Documents/sodukuAI/puzzleDetector/Sample2.png\"\n",
    "originalImage = loadImage(originalImagePath)\n",
    "    \n",
    "    \n",
    "# Updates upper and lower black colors for mask\n",
    "def findGridColor(image):\n",
    "    threshhold = 0.4\n",
    "    for i in range(image.shape[0]):\n",
    "        color = image[i][i]\n",
    "        if color[0] < 200 and color[1] < 200 and color[2] < 200:\n",
    "            blackLower = (\n",
    "                color[0]-color[0]*threshhold, color[1]-color[1]*threshhold, color[2]-color[2]*threshhold)\n",
    "            blackUpper = (\n",
    "                color[0]+color[0]*threshhold, color[1]+color[1]*threshhold, color[2]+color[2]*threshhold)\n",
    "            break\n",
    "#     print(blackLower, blackUpper)\n",
    "    return blackLower, blackUpper\n",
    "    # TODO: Debug lower & upper values here\n",
    "    \n",
    "def cropToGrid(image):\n",
    "    blackLower, blackUpper = findGridColor(image)\n",
    "    mask = cv2.inRange(image, blackLower, blackUpper)\n",
    "    # TODO: Debug show mask\n",
    "\n",
    "    cnts = cv2.findContours(\n",
    "        mask.copy(), cv2.RETR_EXTERNAL, cv2.CHAIN_APPROX_SIMPLE)\n",
    "    cnts = imutils.grab_contours(cnts)\n",
    "    cnt = max(cnts, key=cv2.contourArea)\n",
    "    rect = cv2.minAreaRect(cnt)\n",
    "    box = cv2.boxPoints(rect)\n",
    "    box = np.int0(box)\n",
    "\n",
    "    # Assign coordinates of rectangle\n",
    "    topLeftCornerX = box[1][0]\n",
    "    topLeftCornerY = box[1][1]\n",
    "    bottomRightCornerX = box[3][0]\n",
    "    bottomRightCornerY = box[3][1]\n",
    "    gridCorners = (topLeftCornerX, topLeftCornerY,\n",
    "                        bottomRightCornerX, bottomRightCornerY)\n",
    "    croppedImageWithGrid = image[topLeftCornerY:bottomRightCornerY, topLeftCornerX:bottomRightCornerX]\n",
    "    return croppedImageWithGrid\n",
    "\n",
    "def showImage(image, title):\n",
    "        cv2.imshow(title, image)\n",
    "        cv2.waitKey(0)\n",
    "        cv2.destroyAllWindows();\n",
    "        cv2.waitKey(1)\n"
   ]
  },
  {
   "cell_type": "code",
   "execution_count": null,
   "metadata": {
    "collapsed": true
   },
   "outputs": [],
   "source": []
  },
  {
   "cell_type": "code",
   "execution_count": null,
   "metadata": {
    "collapsed": false
   },
   "outputs": [],
   "source": []
  },
  {
   "cell_type": "code",
   "execution_count": 76,
   "metadata": {
    "collapsed": true
   },
   "outputs": [],
   "source": [
    "def pixelIsBlack(pixel):\n",
    "    blackValue = 200\n",
    "    if pixel[0] < blackValue and pixel[1] < blackValue and pixel[2] < blackValue:\n",
    "        return True\n",
    "    else:\n",
    "        return False\n",
    "        \n",
    "        \n",
    "\n",
    "# TODO: Should consider what happens if image doesn't have a white border.\n",
    "# May want to crop to grid first to avoid accidentally getting on a line\n",
    "def findLines(image):\n",
    "    # Image goes\n",
    "    # originalImage[height, width]\n",
    "    # \n",
    "    # (0,0) --------> originalImage[0][100]\n",
    "    # |\n",
    "    # |\n",
    "    # |\n",
    "    # |\n",
    "    # originalImage[100][0]\n",
    "    \n",
    "    \n",
    "    # Height, width, channels\n",
    "    shape = image.shape\n",
    "    # Gets x coordinates of 1/6, 3/6, 5/6 of image to navigate downward\n",
    "    xPoints = [int(shape[1]/6), int(shape[1]/6)*3, int(shape[1]/6)*5]\n",
    "    yPoints = [int(shape[0]/6), int(shape[0]/6)*3, int(shape[0]/6)*5]\n",
    "    \n",
    "    horizontalLines = []\n",
    "    i = 0\n",
    "    while i < shape[0]:\n",
    "        point1 = image[i, xPoints[0]]\n",
    "        point2 = image[i, xPoints[1]]\n",
    "        point3 = image[i, xPoints[2]]\n",
    "#         print(point1, point2, point3, '\\n')\n",
    "        lineStart = None\n",
    "        if pixelIsBlack(point1) and pixelIsBlack(point2) and pixelIsBlack(point3):\n",
    "            lineStart = i\n",
    "            while pixelIsBlack(point1) and pixelIsBlack(point2) and pixelIsBlack(point3) and i < shape[0]:\n",
    "                i = i + 1\n",
    "                point1 = image[i, xPoints[0]]\n",
    "                point2 = image[i, xPoints[1]]\n",
    "                point3 = image[i, xPoints[2]]\n",
    "                \n",
    "            if lineStart:\n",
    "                horizontalLines.append((lineStart,i-1))\n",
    "        i = i+1\n",
    "        \n",
    "    verticalLines = []\n",
    "    i = 0\n",
    "    while i < shape[1]:\n",
    "        point1 = image[yPoints[0], i]\n",
    "        point2 = image[yPoints[1], i]\n",
    "        point3 = image[yPoints[2], i]\n",
    "#         print(point1, point2, point3, '\\n')\n",
    "        lineStart = None\n",
    "        if pixelIsBlack(point1) and pixelIsBlack(point2) and pixelIsBlack(point3):\n",
    "            lineStart = i\n",
    "            while pixelIsBlack(point1) and pixelIsBlack(point2) and pixelIsBlack(point3) and i < shape[1]:\n",
    "                i = i + 1\n",
    "                point1 = image[yPoints[0], i]\n",
    "                point2 = image[yPoints[1], i]\n",
    "                point3 = image[yPoints[2], i]\n",
    "                \n",
    "            if lineStart:\n",
    "                verticalLines.append((lineStart,i-1))\n",
    "        i = i+1\n",
    "    \n",
    "    \n",
    "    return {\"horizontalLines\": horizontalLines, \"verticalLines\": verticalLines}\n",
    "    \n",
    "    "
   ]
  },
  {
   "cell_type": "code",
   "execution_count": 81,
   "metadata": {
    "collapsed": true
   },
   "outputs": [],
   "source": [
    "def getCells(image, horizontalLines, verticalLines):\n",
    "    cells = []\n",
    "    for i in range(9):\n",
    "        row = []\n",
    "        for i in range(9):\n",
    "            row.append(None)\n",
    "        cells.append(row)\n",
    "    \n",
    "    for i in range(len(horizontalLines) -1):\n",
    "        horizontalCellBounds = (horizontalLines[i][1], horizontalLines[i+1][0])\n",
    "        for j in range(len(verticalLines)-1):\n",
    "            verticalCellBounds = (verticalLines[j][1], verticalLines[j+1][0])\n",
    "            cell = image[horizontalCellBounds[0]:horizontalCellBounds[1], verticalCellBounds[0]:verticalCellBounds[1]]\n",
    "            cells[i][j] = cell\n",
    "    \n",
    "    return cells\n",
    "            \n",
    "        "
   ]
  },
  {
   "cell_type": "code",
   "execution_count": null,
   "metadata": {
    "collapsed": false
   },
   "outputs": [],
   "source": []
  },
  {
   "cell_type": "code",
   "execution_count": null,
   "metadata": {
    "collapsed": false
   },
   "outputs": [],
   "source": []
  },
  {
   "cell_type": "code",
   "execution_count": 83,
   "metadata": {
    "collapsed": false
   },
   "outputs": [],
   "source": [
    "lines = findLines(originalImage)"
   ]
  },
  {
   "cell_type": "code",
   "execution_count": 84,
   "metadata": {
    "collapsed": false
   },
   "outputs": [],
   "source": [
    "cells = getCells(originalImage, lines['horizontalLines'], lines['verticalLines'])"
   ]
  },
  {
   "cell_type": "code",
   "execution_count": null,
   "metadata": {
    "collapsed": false
   },
   "outputs": [],
   "source": []
  },
  {
   "cell_type": "code",
   "execution_count": 68,
   "metadata": {
    "collapsed": false
   },
   "outputs": [],
   "source": [
    "showImage(originalImage, \"Original\")"
   ]
  },
  {
   "cell_type": "code",
   "execution_count": 58,
   "metadata": {
    "collapsed": false
   },
   "outputs": [],
   "source": [
    "showImage(cells[2][0], \"Cell\")"
   ]
  },
  {
   "cell_type": "code",
   "execution_count": 86,
   "metadata": {
    "collapsed": true
   },
   "outputs": [
    {
     "data": {
      "image/png": "[encoded data removed]",
      "text/plain": [
       "<Figure size 432x288 with 1 Axes>"
      ]
     },
     "metadata": {},
     "output_type": "display_data"
    },
    {
     "data": {
      "image/png": "[encoded data removed]",
      "text/plain": [
       "<Figure size 432x288 with 1 Axes>"
      ]
     },
     "metadata": {},
     "output_type": "display_data"
    },
    {
     "data": {
      "image/png": "[encoded data removed]",
      "text/plain": [
       "<Figure size 432x288 with 1 Axes>"
      ]
     },
     "metadata": {},
     "output_type": "display_data"
    },
    {
     "data": {
      "image/png": "[encoded data removed]",
      "text/plain": [
       "<Figure size 432x288 with 1 Axes>"
      ]
     },
     "metadata": {},
     "output_type": "display_data"
    },
    {
     "data": {
      "image/png": "[encoded data removed]",
      "text/plain": [
       "<Figure size 432x288 with 1 Axes>"
      ]
     },
     "metadata": {},
     "output_type": "display_data"
    },
    {
     "data": {
      "image/png": "[encoded data removed]",
      "text/plain": [
       "<Figure size 432x288 with 1 Axes>"
      ]
     },
     "metadata": {},
     "output_type": "display_data"
    },
    {
     "data": {
      "image/png": "[encoded data removed]",
      "text/plain": [
       "<Figure size 432x288 with 1 Axes>"
      ]
     },
     "metadata": {},
     "output_type": "display_data"
    },
    {
     "data": {
      "image/png": "[encoded data removed]",
      "text/plain": [
       "<Figure size 432x288 with 1 Axes>"
      ]
     },
     "metadata": {},
     "output_type": "display_data"
    },
    {
     "data": {
      "image/png": "[encoded data removed]",
      "text/plain": [
       "<Figure size 432x288 with 1 Axes>"
      ]
     },
     "metadata": {},
     "output_type": "display_data"
    }
   ],
   "source": [
    "for i in range(9):\n",
    "    plt.imshow(cells[8][i])\n",
    "    plt.show()"
   ]
  },
  {
   "cell_type": "code",
   "execution_count": null,
   "metadata": {
    "collapsed": false
   },
   "outputs": [],
   "source": []
  },
  {
   "cell_type": "code",
   "execution_count": 94,
   "metadata": {
    "collapsed": true
   },
   "outputs": [],
   "source": [
    "class DigitClassifierNN:\n",
    "    def __init__(self):\n",
    "        self.model = None\n",
    "        self.class_names = []\n",
    "\n",
    "    def trainNewModel(self, pathToImages):\n",
    "        data_dir = pathToImages\n",
    "        batch_size = 32\n",
    "        img_height = 100\n",
    "        img_width = 100\n",
    "        train_ds = tf.keras.preprocessing.image_dataset_from_directory(\n",
    "            data_dir,\n",
    "            validation_split=0.2,\n",
    "            subset=\"training\",\n",
    "            seed=123,\n",
    "            batch_size=batch_size,\n",
    "            image_size=(img_height, img_width)\n",
    "        )\n",
    "        val_ds = tf.keras.preprocessing.image_dataset_from_directory(\n",
    "            data_dir,\n",
    "            validation_split=0.2,\n",
    "            subset=\"validation\",\n",
    "            seed=123,\n",
    "            image_size=(img_height, img_width),\n",
    "            batch_size=batch_size\n",
    "        )\n",
    "        self.class_names = train_ds.class_names\n",
    "\n",
    "        # Caches for performance\n",
    "        AUTOTUNE = tf.data.experimental.AUTOTUNE\n",
    "        train_ds = train_ds.cache().shuffle(1000).prefetch(buffer_size=AUTOTUNE)\n",
    "        val_ds = val_ds.cache().prefetch(buffer_size=AUTOTUNE)\n",
    "\n",
    "        # Creating the NN\n",
    "        model = Sequential([\n",
    "            layers.experimental.preprocessing.Rescaling(\n",
    "                1./255, input_shape=(img_height, img_width, 3)),\n",
    "            layers.Conv2D(16, 3, padding='same', activation='relu'),\n",
    "            layers.MaxPooling2D(),\n",
    "            layers.Conv2D(32, 3, padding='same', activation='relu'),\n",
    "            layers.MaxPooling2D(),\n",
    "            layers.Conv2D(64, 3, padding='same', activation='relu'),\n",
    "            layers.MaxPooling2D(),\n",
    "            layers.Flatten(),\n",
    "            layers.Dense(128, activation='relu'),\n",
    "            layers.Dense(len(self.class_names))\n",
    "        ])\n",
    "\n",
    "        model.compile(optimizer='adam',\n",
    "                      loss=tf.keras.losses.SparseCategoricalCrossentropy(\n",
    "                          from_logits=True),\n",
    "                      metrics=['accuracy'])\n",
    "\n",
    "        epochs = 2\n",
    "        history = model.fit(\n",
    "            train_ds,\n",
    "            validation_data=val_ds,\n",
    "            epochs=epochs\n",
    "        )\n",
    "\n",
    "        self.model = model\n",
    "\n",
    "    def saveModel(self, directory, modelName):\n",
    "        self.model.save(os.path.join(path, modelName))\n",
    "\n",
    "    def loadModel(self, pathToModel):\n",
    "        self.model = tf.keras.models.load_model(pathToModel)\n",
    "        self.class_names = ['1', '2', '3', '4',\n",
    "                            '5', '6', '7', '8', '9', 'blank']\n",
    "\n",
    "    def predict(self, image):\n",
    "        # Temporary path to save image\n",
    "        tempImagePath = os.path.join(os.getcwd(), \"testImg.png\")\n",
    "        resizedCell = cv2.resize(\n",
    "            image, (100, 100), interpolation=cv2.INTER_AREA)\n",
    "        image = PIL.Image.fromarray(resizedCell)\n",
    "        image = ImageOps.grayscale(image)\n",
    "        image.save(tempImagePath)\n",
    "        image = keras.preprocessing.image.load_img(\n",
    "            tempImagePath, target_size=(100, 100)\n",
    "        )\n",
    "\n",
    "        # Deletes temporary image\n",
    "        os.remove(tempImagePath)\n",
    "\n",
    "        img_array = keras.preprocessing.image.img_to_array(image)\n",
    "        img_array = tf.expand_dims(img_array, 0)  # Create a batch\n",
    "        predictions = self.model.predict(img_array)\n",
    "        score = tf.nn.softmax(predictions[0])\n",
    "        prediction = self.class_names[np.argmax(score)]\n",
    "        return prediction\n"
   ]
  },
  {
   "cell_type": "code",
   "execution_count": null,
   "metadata": {
    "collapsed": true
   },
   "outputs": [],
   "source": []
  },
  {
   "cell_type": "code",
   "execution_count": null,
   "metadata": {
    "collapsed": true
   },
   "outputs": [],
   "source": []
  },
  {
   "cell_type": "code",
   "execution_count": 95,
   "metadata": {
    "collapsed": false
   },
   "outputs": [],
   "source": [
    "digitsNN = DigitClassifierNN()\n",
    "digitsNN.loadModel('/Users/patrickbell/Documents/sodukuAI/digitClassifier/wholeModelSaveWith7Epochs')"
   ]
  },
  {
   "cell_type": "code",
   "execution_count": null,
   "metadata": {
    "collapsed": false
   },
   "outputs": [],
   "source": []
  },
  {
   "cell_type": "code",
   "execution_count": null,
   "metadata": {
    "collapsed": true
   },
   "outputs": [],
   "source": []
  }
 ],
 "metadata": {
  "kernelspec": {
   "display_name": "Python 3",
   "language": "python",
   "name": "python3"
  },
  "language_info": {
   "codemirror_mode": {
    "name": "ipython",
    "version": 3
   },
   "file_extension": ".py",
   "mimetype": "text/x-python",
   "name": "python",
   "nbconvert_exporter": "python",
   "pygments_lexer": "ipython3",
   "version": "3.6.0"
  }
 },
 "nbformat": 4,
 "nbformat_minor": 2
}
